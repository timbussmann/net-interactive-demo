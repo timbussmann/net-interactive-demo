{
  "cells": [
    {
      "cell_type": "markdown",
      "metadata": {},
      "source": [
        "This is a single snippet, containing message contract, message handler and the endpoint lifecycle in a single snippet."
      ]
    },
    {
      "cell_type": "code",
      "execution_count": 1,
      "metadata": {
        "dotnet_interactive": {
          "language": "csharp"
        }
      },
      "source": [
        "#r \"nuget:NServiceBus\"\n",
        "using NServiceBus;\n",
        "using NServiceBus.Logging;\n",
        "using System.IO;\n",
        "\n",
        "class SampleMessage : IMessage{\n",
        "    public String Message {get;set;}\n",
        "}\n",
        "\n",
        "static var messageReceived = false;\n",
        "class MySampleMessageHandler : IHandleMessages<SampleMessage> {\n",
        "    static ILog logger = LogManager.GetLogger<MySampleMessageHandler>();\n",
        "    public Task Handle(SampleMessage message, IMessageHandlerContext ctx){\n",
        "        display(\"Received a message!\");\n",
        "        logger.Info(\"Received message!\");\n",
        "        messageReceived = true;\n",
        "        return Task.CompletedTask;\n",
        "    }\n",
        "}\n",
        "\n",
        "var endpointConfig = new EndpointConfiguration(\"DemoEndpoint\");\n",
        "var transportConfig = endpointConfig.UseTransport<LearningTransport>();\n",
        "transportConfig.StorageDirectory(\".\");\n",
        "var endpoint = await Endpoint.Start(endpointConfig);\n",
        "\n",
        "await endpoint.SendLocal(new SampleMessage { Message = \"Hello World\" });\n",
        "display(\"Sent message\");\n",
        "\n",
        "while(!messageReceived){\n",
        "    await Task.Delay(1000);\n",
        "}\n",
        "\n",
        "await endpoint.Stop();"
      ],
      "outputs": []
    }
  ],
  "metadata": {
    "kernelspec": {
      "display_name": ".NET (C#)",
      "language": "C#",
      "name": ".net-csharp"
    },
    "language_info": {
      "file_extension": ".cs",
      "mimetype": "text/x-csharp",
      "name": "C#",
      "pygments_lexer": "csharp",
      "version": "8.0"
    }
  },
  "nbformat": 4,
  "nbformat_minor": 4
}
