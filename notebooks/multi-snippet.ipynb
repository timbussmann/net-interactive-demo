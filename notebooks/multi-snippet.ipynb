{
  "cells": [
    {
      "cell_type": "markdown",
      "metadata": {},
      "source": [
        "# .NET Interactive Notebook with NServiceBus\n",
        "This is a sample notebook created in VisualStudio Code that uses .NET Interactive to use NServiceBus."
      ]
    },
    {
      "cell_type": "markdown",
      "metadata": {},
      "source": [
        "# Create some endpoints\n",
        "\n",
        "Let's start by creating some endpoints:"
      ]
    },
    {
      "cell_type": "code",
      "execution_count": 1,
      "metadata": {
        "dotnet_interactive": {
          "language": "csharp"
        }
      },
      "outputs": [],
      "source": [
        "#r \"nuget:NServiceBus\"\n",
        "using NServiceBus;\n",
        "using NServiceBus.Logging;\n",
        "using System.IO;"
      ]
    },
    {
      "cell_type": "code",
      "execution_count": 1,
      "metadata": {
        "dotnet_interactive": {
          "language": "csharp"
        }
      },
      "outputs": [],
      "source": [
        "display(AppDomain.CurrentDomain.BaseDirectory);\n",
        "display(Environment.CurrentDirectory);"
      ]
    },
    {
      "cell_type": "code",
      "execution_count": 1,
      "metadata": {
        "dotnet_interactive": {
          "language": "csharp"
        }
      },
      "outputs": [],
      "source": [
        "class SampleMessage : IMessage{\n",
        "    public String Message {get;set;}\n",
        "}"
      ]
    },
    {
      "cell_type": "code",
      "execution_count": 1,
      "metadata": {
        "dotnet_interactive": {
          "language": "csharp"
        }
      },
      "outputs": [],
      "source": [
        "static var d = display(\"\");\n",
        "d = display(\"waiting for messages\");\n",
        "class MySampleMessageHandler : IHandleMessages<SampleMessage> {\n",
        "    static ILog logger = LogManager.GetLogger<MySampleMessageHandler>();\n",
        "    public Task Handle(SampleMessage message, IMessageHandlerContext ctx){\n",
        "        d.Update(\"Received a message!\"); // this doesn't work as the update happens outside of the snippet execution\n",
        "        logger.Info(\"Received message!\");\n",
        "        return Task.CompletedTask;\n",
        "    }\n",
        "}"
      ]
    },
    {
      "cell_type": "markdown",
      "metadata": {},
      "source": [
        "The order of execution matters as `Endpoint.Start` will scan the assembly for message handlers and message types."
      ]
    },
    {
      "cell_type": "code",
      "execution_count": 1,
      "metadata": {
        "dotnet_interactive": {
          "language": "csharp"
        }
      },
      "outputs": [],
      "source": [
        "var endpointConfig = new EndpointConfiguration(\"Endpoint1\");\n",
        "var transportConfig = endpointConfig.UseTransport<LearningTransport>();\n",
        "transportConfig.StorageDirectory(\".\");\n",
        "var endpoint = await Endpoint.Start(endpointConfig);"
      ]
    },
    {
      "cell_type": "markdown",
      "metadata": {},
      "source": [
        "The next snippet can be re-run to send more messages. The log file shows that messages are correctly picked up and processed, there is no visible output on the notebook though as the handler code snippet already completed.\n",
        "\n",
        "Re-running any of the previous snippets can cause unexpected behavior due to multiple versions of message contracts, message handlers and concurrent endpoints being defined in the kernel."
      ]
    },
    {
      "cell_type": "code",
      "execution_count": 1,
      "metadata": {
        "dotnet_interactive": {
          "language": "csharp"
        }
      },
      "outputs": [],
      "source": [
        "await endpoint.SendLocal(new SampleMessage { Message = \"Hello World\" });\n",
        "display(\"Sent message\");"
      ]
    }
  ],
  "metadata": {
    "kernelspec": {
      "display_name": ".NET (C#)",
      "language": "C#",
      "name": ".net-csharp"
    },
    "language_info": {
      "file_extension": ".cs",
      "mimetype": "text/x-csharp",
      "name": "csharp",
      "pygments_lexer": "csharp",
      "version": "8.0"
    }
  },
  "nbformat": 4,
  "nbformat_minor": 4
}
