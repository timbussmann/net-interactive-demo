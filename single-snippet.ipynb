{
  "cells": [
    {
      "cell_type": "code",
      "execution_count": 1,
      "metadata": {
        "dotnet_interactive": {
          "language": "csharp"
        }
      },
      "source": [
        "#r \"nuget:NServiceBus\"\n",
        "using NServiceBus;\n",
        "using NServiceBus.Logging;\n",
        "using System.IO;\n",
        "\n",
        "class SampleMessage : IMessage{\n",
        "    public String Message {get;set;}\n",
        "}\n",
        "\n",
        "static var messageReceived = false;\n",
        "class MySampleMessageHandler : IHandleMessages<SampleMessage> {\n",
        "    static ILog logger = LogManager.GetLogger<MySampleMessageHandler>();\n",
        "    public Task Handle(SampleMessage message, IMessageHandlerContext ctx){\n",
        "        display(\"Received a message!\");\n",
        "        logger.Info(\"Received message!\");\n",
        "        messageReceived = true;\n",
        "        return Task.CompletedTask;\n",
        "    }\n",
        "}\n",
        "\n",
        "var endpointConfig = new EndpointConfiguration(\"DemoEndpoint\");\n",
        "var transportConfig = endpointConfig.UseTransport<LearningTransport>();\n",
        "transportConfig.StorageDirectory(\".\");\n",
        "var endpoint = await Endpoint.Start(endpointConfig);\n",
        "\n",
        "await endpoint.SendLocal(new SampleMessage { Message = \"Hello World\" });\n",
        "display(\"Sent message\");\n",
        "\n",
        "while(!messageReceived){\n",
        "    await Task.Delay(1000);\n",
        "}\n",
        "\n",
        "await endpoint.Stop();"
      ],
      "outputs": [
        {
          "output_type": "execute_result",
          "data": {
            "text/plain": "2021-03-29 10:27:16.506 INFO  No valid license could be found. Falling back to trial license with start date '2021-03-29'.\n2021-03-29 10:27:16.512 ERROR Failed to serialize startup diagnostics\nSystem.NullReferenceException: Object reference not set to an instance of an object.\n   at NServiceBus.FileVersionRetriever.GetFileVersion(Assembly assembly) in /_/src/NServiceBus.Core/Utils/FileVersionRetriever.cs:line 20\n   at NServiceBus.AssemblyScanningComponent.<>c.<Initialize>b__0_0(Assembly a) in /_/src/NServiceBus.Core/Hosting/Helpers/AssemblyScanningComponent.cs:line 51\n   at System.Linq.Enumerable.SelectListIterator`2.MoveNext()\n   at SimpleJson.SimpleJson.SerializeArray(IJsonSerializerStrategy jsonSerializerStrategy, IEnumerable anArray, StringBuilder builder) in /_/src/NServiceBus.Core/Serializers/SimpleJson/SimpleJson.g.cs:line 1101\n   at SimpleJson.SimpleJson.SerializeValue(IJsonSerializerStrategy jsonSerializerStrategy, Object value, StringBuilder builder) in /_/src/NServiceBus.Core/Serializers/SimpleJson/SimpleJson.g.cs:line 1034\n   at SimpleJson.SimpleJson.SerializeObject(IJsonSerializerStrategy jsonSerializerStrategy, IEnumerable keys, IEnumerable values, StringBuilder builder) in /_/src/NServiceBus.Core/Serializers/SimpleJson/SimpleJson.g.cs:line 1089\n   at SimpleJson.SimpleJson.SerializeValue(IJsonSerializerStrategy jsonSerializerStrategy, Object value, StringBuilder builder) in /_/src/NServiceBus.Core/Serializers/SimpleJson/SimpleJson.g.cs:line 1028\n   at SimpleJson.SimpleJson.SerializeValue(IJsonSerializerStrategy jsonSerializerStrategy, Object value, StringBuilder builder) in /_/src/NServiceBus.Core/Serializers/SimpleJson/SimpleJson.g.cs:line 1046\n   at SimpleJson.SimpleJson.SerializeObject(IJsonSerializerStrategy jsonSerializerStrategy, IEnumerable keys, IEnumerable values, StringBuilder builder) in /_/src/NServiceBus.Core/Serializers/SimpleJson/SimpleJson.g.cs:line 1089\n   at SimpleJson.SimpleJson.SerializeValue(IJsonSerializerStrategy jsonSerializerStrategy, Object value, StringBuilder builder) in /_/src/NServiceBus.Core/Serializers/SimpleJson/SimpleJson.g.cs:line 1020\n   at SimpleJson.SimpleJson.SerializeObject(Object json, IJsonSerializerStrategy jsonSerializerStrategy) in /_/src/NServiceBus.Core/Serializers/SimpleJson/SimpleJson.g.cs:line 609\n   at SimpleJson.SimpleJson.SerializeObject(Object json) in /_/src/NServiceBus.Core/Serializers/SimpleJson/SimpleJson.g.cs:line 615\n   at NServiceBus.HostStartupDiagnosticsWriter.Write(List`1 entries) in /_/src/NServiceBus.Core/Hosting/StartupDiagnostics/HostStartupDiagnosticsWriter.cs:line 29"
          },
          "execution_count": 1,
          "metadata": {}
        },
        {
          "output_type": "execute_result",
          "data": {
            "text/plain": [
              "Sent message"
            ]
          },
          "execution_count": 1,
          "metadata": {}
        },
        {
          "output_type": "execute_result",
          "data": {
            "text/plain": [
              "Received a message!"
            ]
          },
          "execution_count": 1,
          "metadata": {}
        },
        {
          "output_type": "execute_result",
          "data": {
            "text/plain": "2021-03-29 10:27:16.541 INFO  Received message!\n2021-03-29 10:27:17.524 INFO  Initiating shutdown.\n2021-03-29 10:27:17.526 INFO  Shutdown complete."
          },
          "execution_count": 1,
          "metadata": {}
        }
      ]
    },
    {
      "cell_type": "code",
      "execution_count": 1,
      "metadata": {
        "dotnet_interactive": {
          "language": "csharp"
        }
      },
      "source": [
        ""
      ],
      "outputs": []
    }
  ],
  "metadata": {
    "kernelspec": {
      "display_name": ".NET (C#)",
      "language": "C#",
      "name": ".net-csharp"
    },
    "language_info": {
      "file_extension": ".cs",
      "mimetype": "text/x-csharp",
      "name": "C#",
      "pygments_lexer": "csharp",
      "version": "8.0"
    }
  },
  "nbformat": 4,
  "nbformat_minor": 4
}
